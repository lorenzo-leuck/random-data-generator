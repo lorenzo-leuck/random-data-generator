{
 "cells": [
  {
   "cell_type": "markdown",
   "metadata": {},
   "source": [
    "# Random data functions"
   ]
  },
  {
   "cell_type": "code",
   "execution_count": null,
   "metadata": {},
   "outputs": [],
   "source": [
    "import random\n",
    "from random import randrange\n",
    "import string\n",
    "from br_nome_gen import pessoa_random\n",
    "from datetime import timedelta\n",
    "from datetime import datetime\n",
    "import pytz\n",
    "import pandas as pd\n",
    "import psycopg2\n",
    "\n",
    "\n",
    "dt_str1 = \"27/09/22\"\n",
    "dt_str2 = \"01/01/23\"\n",
    "d1 = datetime.strptime(dt_str1, '%d/%m/%y')\n",
    "d2 = datetime.strptime(dt_str2, '%d/%m/%y')\n",
    "\n",
    "\n",
    "def random_date(start, end):\n",
    "    delta = end - start\n",
    "    int_delta = (delta.days * 24 * 60 * 60) + delta.seconds\n",
    "    random_second = (int_delta)\n",
    "    dia = start + timedelta(seconds=random_second)\n",
    "    return dia.astimezone(pytz.UTC)\n",
    "\n",
    "\n",
    "def random_cpf():\n",
    "    cpf = [random.randint(0, 9) for x in range(9)]\n",
    "\n",
    "    for _ in range(2):\n",
    "        val = sum([(len(cpf) + 1 - i) * v for i, v in enumerate(cpf)]) % 11\n",
    "\n",
    "        cpf.append(11 - val if val > 1 else 0)\n",
    "\n",
    "    return '%s%s%s.%s%s%s.%s%s%s-%s%s' % tuple(cpf)\n",
    "\n",
    "\n",
    "def random_cnpj():\n",
    "    def calculate_special_digit(l):\n",
    "        digit = 0\n",
    "\n",
    "        for i, v in enumerate(l):\n",
    "            digit += v * (i % 8 + 2)\n",
    "\n",
    "        digit = 11 - digit % 11\n",
    "\n",
    "        return digit if digit < 10 else 0\n",
    "\n",
    "    cnpj = [1, 0, 0, 0] + [random.randint(0, 9) for x in range(8)]\n",
    "\n",
    "    for _ in range(2):\n",
    "        cnpj = [calculate_special_digit(cnpj)] + cnpj\n",
    "\n",
    "    return '%s%s.%s%s%s.%s%s%s/%s%s%s%s-%s%s' % tuple(cnpj[::-1])\n",
    "\n",
    "\n",
    "def random_cel():\n",
    "    ddd = [68, 82, 96, 92, 97, 71, 73, 74, 75, 77, 85, 88, 61, 27, 28, 62, 64, 98, 99, 65, 66, 67, 31, 32, 33, 34, 35, 37, 38, 91, 93, 94, 83,\n",
    "    41, 42, 43, 44, 45, 46, 81, 87, 86, 89, 21, 22, 24, 84, 51, 53, 54, 55, 69, 95, 47, 48, 49, 11, 12, 13, 14, 15, 16, 17, 18, 19, 79, 63]\n",
    "\n",
    "    listaCel = [uni_duni(ddd), 9]\n",
    "    listaCel.append(random.randint(8, 9))\n",
    "\n",
    "    for i in range(1, 8):\n",
    "        listaCel.append(random.randint(0, 9))\n",
    "\n",
    "    listaCel = [str(x) for x in listaCel]\n",
    "    cel = \"\".join(listaCel)\n",
    "    return cel\n",
    "\n",
    "\n",
    "def random_string(size=5, chars=string.ascii_lowercase):\n",
    "    return ''.join(random.choice(chars) for _ in range(size))\n",
    "\n",
    "\n",
    "def random_email(size=5, chars=string.ascii_lowercase):\n",
    "    return ''.join(random.choice(chars) for _ in range(size))+\"@email.com\"\n",
    "\n",
    "\n",
    "def random_name():\n",
    "    p = pessoa_random()\n",
    "    return p.nome\n",
    "\n",
    "\n",
    "def random_boolean():\n",
    "    rb = random.choice([True, False])\n",
    "    return rb\n",
    "\n",
    "\n",
    "def uni_duni(lst):\n",
    "    te = random.choice(lst)\n",
    "    return te\n",
    "\n",
    "def sendList(x):\n",
    "    nomes = [random_name() for i in range(0,x)]\n",
    "    email = [random_email() for i in range(0,x)]\n",
    "    fones =  [random_cel() for i in range(0,x)]\n",
    "    cpf = [random_cpf() for i in range(0,x)]\n",
    "    return [nomes, email, fones, cpf]\n"
   ]
  },
  {
   "cell_type": "markdown",
   "metadata": {},
   "source": [
    "# Random send list n size"
   ]
  },
  {
   "cell_type": "code",
   "execution_count": null,
   "metadata": {},
   "outputs": [],
   "source": [
    "df_list = []\n",
    "df = pd.DataFrame(sendList(500))\n",
    "\n",
    "df = df.transpose()\n",
    "df.columns = [\"nome\", \"email\", \"fone\", \"cpf/cnpj\"]\n",
    "df[ \"data de nascimento(DD/MM/AAAA)\"] = \"\"\n",
    "df.to_csv(\"lista-500.csv\", index=False)\n",
    "df"
   ]
  }
 ],
 "metadata": {
  "kernelspec": {
   "display_name": "Python 3",
   "language": "python",
   "name": "python3"
  },
  "language_info": {
   "name": "python",
   "version": "3.10.6 (main, Nov 14 2022, 16:10:14) [GCC 11.3.0]"
  },
  "orig_nbformat": 4,
  "vscode": {
   "interpreter": {
    "hash": "916dbcbb3f70747c44a77c7bcd40155683ae19c65e1c03b4aa3499c5328201f1"
   }
  }
 },
 "nbformat": 4,
 "nbformat_minor": 2
}
